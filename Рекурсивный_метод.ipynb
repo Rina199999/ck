{
  "nbformat": 4,
  "nbformat_minor": 0,
  "metadata": {
    "colab": {
      "provenance": [],
      "authorship_tag": "ABX9TyOMaTHZWgEeShNKdEJ1NdwE",
      "include_colab_link": true
    },
    "kernelspec": {
      "name": "python3",
      "display_name": "Python 3"
    },
    "language_info": {
      "name": "python"
    }
  },
  "cells": [
    {
      "cell_type": "markdown",
      "metadata": {
        "id": "view-in-github",
        "colab_type": "text"
      },
      "source": [
        "<a href=\"https://colab.research.google.com/github/Rina199999/ck/blob/main/%D0%A0%D0%B5%D0%BA%D1%83%D1%80%D1%81%D0%B8%D0%B2%D0%BD%D1%8B%D0%B9_%D0%BC%D0%B5%D1%82%D0%BE%D0%B4.ipynb\" target=\"_parent\"><img src=\"https://colab.research.google.com/assets/colab-badge.svg\" alt=\"Open In Colab\"/></a>"
      ]
    },
    {
      "cell_type": "code",
      "source": [
        "with open(\"/content/drive/MyDrive/Чкалов/in.txt\") as file:\n",
        "  a=[row.strip() for row in file]\n",
        "def fac(n):\n",
        "    if n == 0:\n",
        "        return 1\n",
        "    return fac(n-1) * n\n",
        "for i, item in enumerate(a):\n",
        "  a[i]=int(item)\n",
        "b=a\n",
        "x=len(a)\n",
        "for i in range(x):\n",
        "  if a[i]==0:\n",
        "    b[i]=0\n",
        "  else:\n",
        "    b[i]=(fac(a[i]))\n",
        "c=([str(y) for y in b])\n",
        "with open(\"/content/drive/MyDrive/Чкалов/out1.txt\", \"w\") as file:\n",
        "  for line in c:\n",
        "    file.write(line + '\\n')"
      ],
      "metadata": {
        "id": "oD9UBRMhYCMq"
      },
      "execution_count": 45,
      "outputs": []
    }
  ]
}